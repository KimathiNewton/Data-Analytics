{
 "cells": [
  {
   "cell_type": "markdown",
   "id": "90fffa19-f6a3-466d-9949-b36feec067f1",
   "metadata": {
    "tags": []
   },
   "source": [
    "# Newton Kimathi"
   ]
  },
  {
   "cell_type": "markdown",
   "id": "9db525d9-06f9-47fb-97bc-b74df052f5f3",
   "metadata": {
    "tags": []
   },
   "source": [
    "# Sales and Operational Planning Project"
   ]
  },
  {
   "cell_type": "markdown",
   "id": "5f98b45f",
   "metadata": {},
   "source": [
    "In this project, you are going to simulate a sales and operations planning using the zero-stock level strategy. Write a Python program that asks the user to enter the following data:\n",
    "- An initial stock level for a product\n",
    "\n",
    " - The number of month(s) to plan\n",
    "\n",
    " - The planned sales quantity for each month\n",
    "\n",
    " Based on this data, calculate the required production quantity as follows:\n",
    "\n",
    " - If the sales quantity is smaller than the stock level of the previous month, the production quantity is 0\n",
    "\n",
    "- If the sales quantity is larger than the stock level of the previous month, the production quantity is this difference"
   ]
  },
  {
   "cell_type": "code",
   "execution_count": 3,
   "id": "32f3e451-3428-4fcb-8dd7-360831a6b8a3",
   "metadata": {},
   "outputs": [
    {
     "ename": "SyntaxError",
     "evalue": "invalid syntax (3996230772.py, line 18)",
     "output_type": "error",
     "traceback": [
      "\u001b[1;36m  File \u001b[1;32m\"C:\\Users\\Newton\\AppData\\Local\\Temp\\ipykernel_1944\\3996230772.py\"\u001b[1;36m, line \u001b[1;32m18\u001b[0m\n\u001b[1;33m    else:\u001b[0m\n\u001b[1;37m    ^\u001b[0m\n\u001b[1;31mSyntaxError\u001b[0m\u001b[1;31m:\u001b[0m invalid syntax\n"
     ]
    }
   ],
   "source": [
    "# Input for an initial stock level for the product\n",
    "initial_stock = int(input(\"Please enter an initial stock level: \"))\n",
    "\n",
    "# Input for the number of months to plan\n",
    "num_months = int(input(\"Please enter the number of months to plan: \"))\n",
    "\n",
    "# Set the current stock level to the initial stock level\n",
    "current_stock = initial_stock\n",
    "\n",
    "# Loop over the number of months to plan. num_months = 5\n",
    "for i in range(num_months):\n",
    "  # Get the planned sales quantity for the current month\n",
    "  planned_sales = int(input(f\"Please enter the planned sales quantity for month {i+1}: \"))\n",
    "\n",
    "  # To Calculate the production quantity\n",
    "  if planned_sales > current_stock:\n",
    "    production_quantity = planned_sales - current_stock\n",
    "else:\n",
    "    production_quantity = 0\n",
    "\n",
    "  # Print the production quantity for the current month\n",
    "  print(f\"Production quantity month {i+1} - {production_quantity}\")\n",
    "\n",
    "  # Update the current stock level\n",
    "  current_stock = current_stock + production_quantity - planned_sales\n"
   ]
  },
  {
   "cell_type": "code",
   "execution_count": null,
   "id": "76b91acb-facb-4e2e-99b4-7dd012be15fa",
   "metadata": {},
   "outputs": [],
   "source": []
  },
  {
   "cell_type": "code",
   "execution_count": null,
   "id": "a05c5f84-0227-4562-92b8-46f511dc54ff",
   "metadata": {},
   "outputs": [],
   "source": []
  },
  {
   "cell_type": "code",
   "execution_count": null,
   "id": "8f17fe48-85b6-4a9a-9cdf-c88bc8ac8d0f",
   "metadata": {},
   "outputs": [],
   "source": []
  },
  {
   "cell_type": "code",
   "execution_count": null,
   "id": "de3e26b4-e19d-484c-84bc-df5e3f75f78c",
   "metadata": {},
   "outputs": [],
   "source": []
  },
  {
   "cell_type": "code",
   "execution_count": null,
   "id": "4249118f-dca3-4a8c-9e44-f9838b48ce0b",
   "metadata": {},
   "outputs": [],
   "source": []
  },
  {
   "cell_type": "code",
   "execution_count": null,
   "id": "9a28eaab-e3bb-4c7e-a6b0-0a102c7677c7",
   "metadata": {},
   "outputs": [],
   "source": []
  },
  {
   "cell_type": "code",
   "execution_count": null,
   "id": "258acc05-976b-4981-b1c4-504c04e0e8fa",
   "metadata": {},
   "outputs": [],
   "source": []
  },
  {
   "cell_type": "code",
   "execution_count": null,
   "id": "ee5ec288-d477-4c09-a582-61164e9adbcf",
   "metadata": {},
   "outputs": [],
   "source": []
  }
 ],
 "metadata": {
  "kernelspec": {
   "display_name": "Python 3 (ipykernel)",
   "language": "python",
   "name": "python3"
  },
  "language_info": {
   "codemirror_mode": {
    "name": "ipython",
    "version": 3
   },
   "file_extension": ".py",
   "mimetype": "text/x-python",
   "name": "python",
   "nbconvert_exporter": "python",
   "pygments_lexer": "ipython3",
   "version": "3.9.13"
  }
 },
 "nbformat": 4,
 "nbformat_minor": 5
}
