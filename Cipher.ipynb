{
 "cells": [
  {
   "cell_type": "code",
   "execution_count": 5,
   "id": "2215abbc-e5b2-448a-9079-8345aaf6d4be",
   "metadata": {},
   "outputs": [
    {
     "name": "stdout",
     "output_type": "stream",
     "text": [
      "Type your message: Chelsea\n",
      "Fkhovhd\n"
     ]
    }
   ],
   "source": [
    "def caesar_cipher(text, shift):\n",
    "    # Create a string of all the uppercase and lowercase letters\n",
    "    upper = \"ABCDEFGHIJKLMNOPQRSTUVWXYZ\"\n",
    "    lower = \"abcdefghijklmnopqrstuvwxyz\"\n",
    "\n",
    "    # Initialize the encrypted text as an empty string\n",
    "    encrypted = \"\"\n",
    "\n",
    "    # Loop through each character in the text\n",
    "    for char in text:\n",
    "        # If the character is an uppercase letter, encrypt it\n",
    "        if char in upper:\n",
    "            encrypted += upper[(upper.index(char) + shift) % 26]\n",
    "        # If the character is a lowercase letter, encrypt it\n",
    "        elif char in lower:\n",
    "            encrypted += lower[(lower.index(char) + shift) % 26]\n",
    "        # If the character is not a letter, leave it as is\n",
    "        else:\n",
    "            encrypted += char\n",
    "\n",
    "    return encrypted\n",
    "\n",
    "# Test the function\n",
    "plaintext = input('Type your message: ')\n",
    "shift = 3\n",
    "encrypted = caesar_cipher(plaintext, shift)\n",
    "print(encrypted)\n"
   ]
  },
  {
   "cell_type": "code",
   "execution_count": null,
   "id": "77d85a39-aa01-4fde-9d74-7da5110a189d",
   "metadata": {},
   "outputs": [],
   "source": [
    "\n"
   ]
  },
  {
   "cell_type": "code",
   "execution_count": null,
   "id": "c3853d29-9dae-4ed3-bd17-e1ba25fb0ff4",
   "metadata": {},
   "outputs": [],
   "source": []
  }
 ],
 "metadata": {
  "kernelspec": {
   "display_name": "Python 3 (ipykernel)",
   "language": "python",
   "name": "python3"
  },
  "language_info": {
   "codemirror_mode": {
    "name": "ipython",
    "version": 3
   },
   "file_extension": ".py",
   "mimetype": "text/x-python",
   "name": "python",
   "nbconvert_exporter": "python",
   "pygments_lexer": "ipython3",
   "version": "3.9.13"
  }
 },
 "nbformat": 4,
 "nbformat_minor": 5
}
